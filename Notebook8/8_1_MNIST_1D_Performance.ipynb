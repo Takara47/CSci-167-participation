{
  "cells": [
    {
      "cell_type": "markdown",
      "metadata": {
        "id": "view-in-github",
        "colab_type": "text"
      },
      "source": [
        "<a href=\"https://colab.research.google.com/github/Takara47/CSci-167-participation/blob/main/Notebook8/8_1_MNIST_1D_Performance.ipynb\" target=\"_parent\"><img src=\"https://colab.research.google.com/assets/colab-badge.svg\" alt=\"Open In Colab\"/></a>"
      ]
    },
    {
      "cell_type": "markdown",
      "metadata": {
        "id": "L6chybAVFJW2"
      },
      "source": [
        "# **Notebook 8.1: MNIST_1D_Performance**\n",
        "\n",
        "This notebook runs a simple neural network on the MNIST1D dataset as in figure 8.2a. It uses code from https://github.com/greydanus/mnist1d to generate the data.\n",
        "\n",
        "Work through the cells below, running each cell in turn. In various places you will see the words \"TO DO\". Follow the instructions at these places and make predictions about what is going to happen or write code to complete the functions.\n",
        "\n",
        "Contact me at udlbookmail@gmail.com if you find any mistakes or have any suggestions."
      ]
    },
    {
      "cell_type": "code",
      "execution_count": 1,
      "metadata": {
        "id": "ifVjS4cTOqKz",
        "colab": {
          "base_uri": "https://localhost:8080/"
        },
        "outputId": "7b2a81c5-76ad-477b-cc02-1186a2a6cd26"
      },
      "outputs": [
        {
          "output_type": "stream",
          "name": "stdout",
          "text": [
            "Collecting git+https://github.com/greydanus/mnist1d\n",
            "  Cloning https://github.com/greydanus/mnist1d to /tmp/pip-req-build-evhi0lti\n",
            "  Running command git clone --filter=blob:none --quiet https://github.com/greydanus/mnist1d /tmp/pip-req-build-evhi0lti\n",
            "  Resolved https://github.com/greydanus/mnist1d to commit 68cb6b2d1d3a956cc2e9035e5a9860b66e33d642\n",
            "  Installing build dependencies ... \u001b[?25l\u001b[?25hdone\n",
            "  Getting requirements to build wheel ... \u001b[?25l\u001b[?25hdone\n",
            "  Preparing metadata (pyproject.toml) ... \u001b[?25l\u001b[?25hdone\n",
            "Requirement already satisfied: requests in /usr/local/lib/python3.10/dist-packages (from mnist1d==0.0.2.post15) (2.32.3)\n",
            "Requirement already satisfied: numpy in /usr/local/lib/python3.10/dist-packages (from mnist1d==0.0.2.post15) (1.26.4)\n",
            "Requirement already satisfied: matplotlib in /usr/local/lib/python3.10/dist-packages (from mnist1d==0.0.2.post15) (3.7.1)\n",
            "Requirement already satisfied: scipy in /usr/local/lib/python3.10/dist-packages (from mnist1d==0.0.2.post15) (1.13.1)\n",
            "Requirement already satisfied: contourpy>=1.0.1 in /usr/local/lib/python3.10/dist-packages (from matplotlib->mnist1d==0.0.2.post15) (1.3.0)\n",
            "Requirement already satisfied: cycler>=0.10 in /usr/local/lib/python3.10/dist-packages (from matplotlib->mnist1d==0.0.2.post15) (0.12.1)\n",
            "Requirement already satisfied: fonttools>=4.22.0 in /usr/local/lib/python3.10/dist-packages (from matplotlib->mnist1d==0.0.2.post15) (4.54.1)\n",
            "Requirement already satisfied: kiwisolver>=1.0.1 in /usr/local/lib/python3.10/dist-packages (from matplotlib->mnist1d==0.0.2.post15) (1.4.7)\n",
            "Requirement already satisfied: packaging>=20.0 in /usr/local/lib/python3.10/dist-packages (from matplotlib->mnist1d==0.0.2.post15) (24.1)\n",
            "Requirement already satisfied: pillow>=6.2.0 in /usr/local/lib/python3.10/dist-packages (from matplotlib->mnist1d==0.0.2.post15) (10.4.0)\n",
            "Requirement already satisfied: pyparsing>=2.3.1 in /usr/local/lib/python3.10/dist-packages (from matplotlib->mnist1d==0.0.2.post15) (3.1.4)\n",
            "Requirement already satisfied: python-dateutil>=2.7 in /usr/local/lib/python3.10/dist-packages (from matplotlib->mnist1d==0.0.2.post15) (2.8.2)\n",
            "Requirement already satisfied: charset-normalizer<4,>=2 in /usr/local/lib/python3.10/dist-packages (from requests->mnist1d==0.0.2.post15) (3.3.2)\n",
            "Requirement already satisfied: idna<4,>=2.5 in /usr/local/lib/python3.10/dist-packages (from requests->mnist1d==0.0.2.post15) (3.10)\n",
            "Requirement already satisfied: urllib3<3,>=1.21.1 in /usr/local/lib/python3.10/dist-packages (from requests->mnist1d==0.0.2.post15) (2.2.3)\n",
            "Requirement already satisfied: certifi>=2017.4.17 in /usr/local/lib/python3.10/dist-packages (from requests->mnist1d==0.0.2.post15) (2024.8.30)\n",
            "Requirement already satisfied: six>=1.5 in /usr/local/lib/python3.10/dist-packages (from python-dateutil>=2.7->matplotlib->mnist1d==0.0.2.post15) (1.16.0)\n",
            "Building wheels for collected packages: mnist1d\n",
            "  Building wheel for mnist1d (pyproject.toml) ... \u001b[?25l\u001b[?25hdone\n",
            "  Created wheel for mnist1d: filename=mnist1d-0.0.2.post15-py3-none-any.whl size=14561 sha256=17c55df8517c3e96b8cc2737199bd830afe9a9624ce4d710c57f7017fbda8cc9\n",
            "  Stored in directory: /tmp/pip-ephem-wheel-cache-cajf0q79/wheels/41/95/55/45fcf7d38cfa97e35682da6c5017d4513729131326ce935371\n",
            "Successfully built mnist1d\n",
            "Installing collected packages: mnist1d\n",
            "Successfully installed mnist1d-0.0.2.post15\n"
          ]
        }
      ],
      "source": [
        "# Run this if you're in a Colab to install MNIST 1D repository\n",
        "%pip install git+https://github.com/greydanus/mnist1d"
      ]
    },
    {
      "cell_type": "code",
      "execution_count": 2,
      "metadata": {
        "id": "qyE7G1StPIqO"
      },
      "outputs": [],
      "source": [
        "import torch, torch.nn as nn\n",
        "from torch.utils.data import TensorDataset, DataLoader\n",
        "from torch.optim.lr_scheduler import StepLR\n",
        "import numpy as np\n",
        "import matplotlib.pyplot as plt\n",
        "import mnist1d"
      ]
    },
    {
      "cell_type": "markdown",
      "metadata": {
        "id": "F7LNq72SP6jO"
      },
      "source": [
        "Let's generate a training and test dataset using the MNIST1D code.  The dataset gets saved as a .pkl file so it doesn't have to be regenerated each time."
      ]
    },
    {
      "cell_type": "code",
      "execution_count": 3,
      "metadata": {
        "id": "YLxf7dJfPaqw",
        "colab": {
          "base_uri": "https://localhost:8080/"
        },
        "outputId": "3d04ede5-61a7-4ec4-a319-10f3c0181f3b"
      },
      "outputs": [
        {
          "output_type": "stream",
          "name": "stdout",
          "text": [
            "Did or could not load data from ./mnist1d_data.pkl. Rebuilding dataset...\n",
            "Examples in training set: 4000\n",
            "Examples in test set: 1000\n",
            "Length of each example: 40\n"
          ]
        }
      ],
      "source": [
        "args = mnist1d.data.get_dataset_args()\n",
        "data = mnist1d.data.get_dataset(args, path='./mnist1d_data.pkl', download=False, regenerate=False)\n",
        "\n",
        "# The training and test input and outputs are in\n",
        "# data['x'], data['y'], data['x_test'], and data['y_test']\n",
        "print(\"Examples in training set: {}\".format(len(data['y'])))\n",
        "print(\"Examples in test set: {}\".format(len(data['y_test'])))\n",
        "print(\"Length of each example: {}\".format(data['x'].shape[-1]))"
      ]
    },
    {
      "cell_type": "code",
      "execution_count": 86,
      "metadata": {
        "id": "FxaB5vc0uevl",
        "colab": {
          "base_uri": "https://localhost:8080/"
        },
        "outputId": "623050f9-9c19-4681-c28f-a85ba3d6a0b8"
      },
      "outputs": [
        {
          "output_type": "execute_result",
          "data": {
            "text/plain": [
              "Sequential(\n",
              "  (0): Linear(in_features=40, out_features=400, bias=True)\n",
              "  (1): ReLU()\n",
              "  (2): Linear(in_features=400, out_features=400, bias=True)\n",
              "  (3): ReLU()\n",
              "  (4): Linear(in_features=400, out_features=400, bias=True)\n",
              "  (5): ReLU()\n",
              "  (6): Linear(in_features=400, out_features=10, bias=True)\n",
              ")"
            ]
          },
          "metadata": {},
          "execution_count": 86
        }
      ],
      "source": [
        "D_i = 40    # Input dimensions\n",
        "D_k = 400   # Hidden dimensions\n",
        "D_o = 10    # Output dimensions\n",
        "# TO DO:\n",
        "# Define a model with two hidden layers of size 100\n",
        "# And ReLU activations between them\n",
        "# Replace this line (see Figure 7.8 of book for help):\n",
        "model = torch.nn.Sequential(\n",
        "    torch.nn.Linear(D_i, D_k),\n",
        "    torch.nn.ReLU(),\n",
        "    torch.nn.Linear(D_k, D_k),\n",
        "    torch.nn.ReLU(),\n",
        "    torch.nn.Linear(D_k, D_k),\n",
        "    torch.nn.ReLU(),\n",
        "    torch.nn.Linear(D_k, D_o),);\n",
        "\n",
        "\n",
        "def weights_init(layer_in):\n",
        "  # TO DO:\n",
        "  # Initialize the parameters with He initialization\n",
        "  # Replace this line (see figure 7.8 of book for help)\n",
        "  if isinstance(layer_in, torch.nn.Linear):\n",
        "    torch.nn.init.kaiming_normal_(layer_in.weight)\n",
        "    torch.nn.init.zeros_(layer_in.bias)\n",
        "\n",
        "\n",
        "# Call the function you just defined\n",
        "model.apply(weights_init)\n"
      ]
    },
    {
      "cell_type": "code",
      "execution_count": 87,
      "metadata": {
        "id": "_rX6N3VyyQTY",
        "colab": {
          "base_uri": "https://localhost:8080/"
        },
        "outputId": "9ccf2544-e79d-43e6-bd72-e5ca2938d395"
      },
      "outputs": [
        {
          "output_type": "stream",
          "name": "stdout",
          "text": [
            "Epoch     0, train loss 1.438118, train error 55.75,  test loss 1.567298, test error 63.40\n",
            "Epoch     1, train loss 1.057749, train error 37.70,  test loss 1.336213, test error 51.80\n",
            "Epoch     2, train loss 0.752433, train error 25.20,  test loss 1.148156, test error 42.80\n",
            "Epoch     3, train loss 0.622995, train error 21.45,  test loss 1.098316, test error 40.40\n",
            "Epoch     4, train loss 0.524606, train error 19.38,  test loss 1.155286, test error 38.10\n",
            "Epoch     5, train loss 0.185078, train error 5.00,  test loss 0.914434, test error 32.90\n",
            "Epoch     6, train loss 0.163240, train error 5.22,  test loss 1.083660, test error 32.40\n",
            "Epoch     7, train loss 0.102876, train error 2.90,  test loss 1.079054, test error 30.80\n",
            "Epoch     8, train loss 0.091739, train error 2.80,  test loss 1.115386, test error 33.10\n",
            "Epoch     9, train loss 0.046446, train error 0.97,  test loss 1.117546, test error 30.80\n",
            "Epoch    10, train loss 0.017867, train error 0.20,  test loss 1.066563, test error 30.00\n",
            "Epoch    11, train loss 0.004958, train error 0.00,  test loss 1.053916, test error 27.80\n",
            "Epoch    12, train loss 0.003104, train error 0.00,  test loss 1.075576, test error 27.80\n",
            "Epoch    13, train loss 0.002427, train error 0.00,  test loss 1.095730, test error 27.50\n",
            "Epoch    14, train loss 0.002058, train error 0.00,  test loss 1.111844, test error 27.20\n",
            "Epoch    15, train loss 0.001825, train error 0.00,  test loss 1.124231, test error 27.40\n",
            "Epoch    16, train loss 0.001653, train error 0.00,  test loss 1.133002, test error 27.30\n",
            "Epoch    17, train loss 0.001514, train error 0.00,  test loss 1.144190, test error 27.30\n",
            "Epoch    18, train loss 0.001399, train error 0.00,  test loss 1.152435, test error 27.40\n",
            "Epoch    19, train loss 0.001302, train error 0.00,  test loss 1.158899, test error 27.10\n",
            "Epoch    20, train loss 0.001229, train error 0.00,  test loss 1.166521, test error 27.20\n",
            "Epoch    21, train loss 0.001167, train error 0.00,  test loss 1.171324, test error 27.40\n",
            "Epoch    22, train loss 0.001112, train error 0.00,  test loss 1.177588, test error 27.50\n",
            "Epoch    23, train loss 0.001061, train error 0.00,  test loss 1.183324, test error 27.30\n",
            "Epoch    24, train loss 0.001016, train error 0.00,  test loss 1.188166, test error 27.30\n",
            "Epoch    25, train loss 0.000982, train error 0.00,  test loss 1.192440, test error 27.40\n",
            "Epoch    26, train loss 0.000950, train error 0.00,  test loss 1.196060, test error 27.10\n",
            "Epoch    27, train loss 0.000921, train error 0.00,  test loss 1.200097, test error 27.10\n",
            "Epoch    28, train loss 0.000893, train error 0.00,  test loss 1.203629, test error 27.20\n",
            "Epoch    29, train loss 0.000867, train error 0.00,  test loss 1.208239, test error 27.50\n",
            "Epoch    30, train loss 0.000847, train error 0.00,  test loss 1.210867, test error 27.30\n",
            "Epoch    31, train loss 0.000828, train error 0.00,  test loss 1.213900, test error 27.30\n",
            "Epoch    32, train loss 0.000810, train error 0.00,  test loss 1.216034, test error 27.30\n",
            "Epoch    33, train loss 0.000793, train error 0.00,  test loss 1.219157, test error 27.40\n",
            "Epoch    34, train loss 0.000777, train error 0.00,  test loss 1.221601, test error 27.50\n",
            "Epoch    35, train loss 0.000764, train error 0.00,  test loss 1.223772, test error 27.60\n",
            "Epoch    36, train loss 0.000752, train error 0.00,  test loss 1.225683, test error 27.50\n",
            "Epoch    37, train loss 0.000740, train error 0.00,  test loss 1.227351, test error 27.50\n",
            "Epoch    38, train loss 0.000728, train error 0.00,  test loss 1.229344, test error 27.60\n",
            "Epoch    39, train loss 0.000717, train error 0.00,  test loss 1.231215, test error 27.60\n",
            "Epoch    40, train loss 0.000709, train error 0.00,  test loss 1.232747, test error 27.60\n",
            "Epoch    41, train loss 0.000700, train error 0.00,  test loss 1.233992, test error 27.60\n",
            "Epoch    42, train loss 0.000692, train error 0.00,  test loss 1.235464, test error 27.60\n",
            "Epoch    43, train loss 0.000684, train error 0.00,  test loss 1.237276, test error 27.60\n",
            "Epoch    44, train loss 0.000676, train error 0.00,  test loss 1.238747, test error 27.50\n",
            "Epoch    45, train loss 0.000670, train error 0.00,  test loss 1.239759, test error 27.50\n",
            "Epoch    46, train loss 0.000664, train error 0.00,  test loss 1.240920, test error 27.40\n",
            "Epoch    47, train loss 0.000658, train error 0.00,  test loss 1.242025, test error 27.40\n",
            "Epoch    48, train loss 0.000652, train error 0.00,  test loss 1.243038, test error 27.40\n",
            "Epoch    49, train loss 0.000647, train error 0.00,  test loss 1.244381, test error 27.40\n"
          ]
        }
      ],
      "source": [
        "# choose cross entropy loss function (equation 5.24)\n",
        "loss_function = torch.nn.CrossEntropyLoss()\n",
        "# construct SGD optimizer and initialize learning rate and momentum\n",
        "optimizer = torch.optim.SGD(model.parameters(), lr = 0.05, momentum=0.9)\n",
        "# object that decreases learning rate by half every 10 epochs\n",
        "scheduler = StepLR(optimizer, step_size=5, gamma=0.8)\n",
        "x_train = torch.tensor(data['x'].astype('float32'))\n",
        "y_train = torch.tensor(data['y'].transpose().astype('int64'))\n",
        "x_test= torch.tensor(data['x_test'].astype('float32'))\n",
        "y_test = torch.tensor(data['y_test'].astype('int64'))\n",
        "\n",
        "# load the data into a class that creates the batches\n",
        "data_loader = DataLoader(TensorDataset(x_train,y_train), batch_size=50, shuffle=True, worker_init_fn=np.random.seed(1))\n",
        "\n",
        "# Initialize model weights\n",
        "model.apply(weights_init)\n",
        "\n",
        "# loop over the dataset n_epoch times\n",
        "n_epoch = 50\n",
        "# store the loss and the % correct at each epoch\n",
        "losses_train = np.zeros((n_epoch))\n",
        "errors_train = np.zeros((n_epoch))\n",
        "losses_test = np.zeros((n_epoch))\n",
        "errors_test = np.zeros((n_epoch))\n",
        "\n",
        "for epoch in range(n_epoch):\n",
        "  # loop over batches\n",
        "  for i, batch in enumerate(data_loader):\n",
        "    # retrieve inputs and labels for this batch\n",
        "    x_batch, y_batch = batch\n",
        "    # zero the parameter gradients\n",
        "    optimizer.zero_grad()\n",
        "    # forward pass -- calculate model output\n",
        "    pred = model(x_batch)\n",
        "    # compute the loss\n",
        "    loss = loss_function(pred, y_batch)\n",
        "    # backward pass\n",
        "    loss.backward()\n",
        "    # SGD update\n",
        "    optimizer.step()\n",
        "\n",
        "  # Run whole dataset to get statistics -- normally wouldn't do this\n",
        "  pred_train = model(x_train)\n",
        "  pred_test = model(x_test)\n",
        "  _, predicted_train_class = torch.max(pred_train.data, 1)\n",
        "  _, predicted_test_class = torch.max(pred_test.data, 1)\n",
        "  errors_train[epoch] = 100 - 100 * (predicted_train_class == y_train).float().sum() / len(y_train)\n",
        "  errors_test[epoch]= 100 - 100 * (predicted_test_class == y_test).float().sum() / len(y_test)\n",
        "  losses_train[epoch] = loss_function(pred_train, y_train).item()\n",
        "  losses_test[epoch]= loss_function(pred_test, y_test).item()\n",
        "  print(f'Epoch {epoch:5d}, train loss {losses_train[epoch]:.6f}, train error {errors_train[epoch]:3.2f},  test loss {losses_test[epoch]:.6f}, test error {errors_test[epoch]:3.2f}')\n",
        "\n",
        "  # tell scheduler to consider updating learning rate\n",
        "  scheduler.step()"
      ]
    },
    {
      "cell_type": "code",
      "execution_count": 88,
      "metadata": {
        "id": "yI-l6kA_EH9G",
        "colab": {
          "base_uri": "https://localhost:8080/",
          "height": 927
        },
        "outputId": "d4908972-117b-4164-b655-fc900db25f6a"
      },
      "outputs": [
        {
          "output_type": "display_data",
          "data": {
            "text/plain": [
              "<Figure size 640x480 with 1 Axes>"
            ],
            "image/png": "[encoded data removed]"
          },
          "metadata": {}
        },
        {
          "output_type": "display_data",
          "data": {
            "text/plain": [
              "<Figure size 640x480 with 1 Axes>"
            ],
            "image/png": "[encoded data removed]"
          },
          "metadata": {}
        }
      ],
      "source": [
        "# Plot the results\n",
        "fig, ax = plt.subplots()\n",
        "ax.plot(errors_train,'r-',label='train')\n",
        "ax.plot(errors_test,'b-',label='test')\n",
        "ax.set_ylim(0,100); ax.set_xlim(0,n_epoch)\n",
        "ax.set_xlabel('Epoch'); ax.set_ylabel('Error')\n",
        "ax.set_title('TrainError %3.2f, Test Error %3.2f'%(errors_train[-1],errors_test[-1]))\n",
        "ax.legend()\n",
        "plt.show()\n",
        "\n",
        "# Plot the results\n",
        "fig, ax = plt.subplots()\n",
        "ax.plot(losses_train,'r-',label='train')\n",
        "ax.plot(losses_test,'b-',label='test')\n",
        "ax.set_xlim(0,n_epoch)\n",
        "ax.set_xlabel('Epoch'); ax.set_ylabel('Loss')\n",
        "ax.set_title('Train loss %3.2f, Test loss %3.2f'%(losses_train[-1],losses_test[-1]))\n",
        "ax.legend()\n",
        "plt.show()"
      ]
    },
    {
      "cell_type": "markdown",
      "metadata": {
        "id": "q-yT6re6GZS4"
      },
      "source": [
        "**TO DO**\n",
        "\n",
        "Play with the model -- try changing the number of layers, hidden units, learning rate, batch size, momentum or anything else you like.  See if you can improve the test results.\n",
        "\n",
        "Reducing the hidden layers helped it not overfit and thus the Test loss didn't shoot up after a time, but the overall error was greater.  Increasing the number of layers caused it to overfit faster.\n",
        "\n",
        "Reducing the number of hidden units in each layer caused it once again to not overfit but had a worse overall error.  Increasing the hidden units also seemed to smooth out the loss and lower the error but this was very slight and it quickly saw diminishing returns.\n",
        "\n",
        "Increasing learning rate didn't seem to have a noticable effect other than it overfit in a slightely later epoch.  Decreasing the learning rate helped with overfitting but once again increased the error.\n",
        "\n",
        "The best results I managed to get was to add another layer, increase the hidden units to 400, drop the step size to 5, drop batch size to 50 and increase the gamma to 0.8.  This gave the least test error I observed and also the loss was fairely flat but did bump back up a bit.\n",
        "\n",
        "\n",
        "\n",
        "Is it a good idea to optimize the hyperparameters in this way?  Will the final result be a good estimate of the true test performance?\n",
        "\n",
        "It can be good measuring stick for preformance and getting good hyperparmeters, but it is important to not optimize it to much to the test data.  This is why it is good to have a completely seperate set of data that can be used as a true test performanced."
      ]
    }
  ],
  "metadata": {
    "accelerator": "GPU",
    "colab": {
      "gpuType": "T4",
      "provenance": [],
      "include_colab_link": true
    },
    "kernelspec": {
      "display_name": "Python 3",
      "name": "python3"
    },
    "language_info": {
      "name": "python"
    }
  },
  "nbformat": 4,
  "nbformat_minor": 0
}