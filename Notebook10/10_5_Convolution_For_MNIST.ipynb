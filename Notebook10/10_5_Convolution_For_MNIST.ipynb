{
  "nbformat": 4,
  "nbformat_minor": 0,
  "metadata": {
    "colab": {
      "provenance": [],
      "include_colab_link": true
    },
    "kernelspec": {
      "name": "python3",
      "display_name": "Python 3"
    },
    "language_info": {
      "name": "python"
    }
  },
  "cells": [
    {
      "cell_type": "markdown",
      "metadata": {
        "id": "view-in-github",
        "colab_type": "text"
      },
      "source": [
        "<a href=\"https://colab.research.google.com/github/Takara47/CSci-167-participation/blob/main/Notebook10/10_5_Convolution_For_MNIST.ipynb\" target=\"_parent\"><img src=\"https://colab.research.google.com/assets/colab-badge.svg\" alt=\"Open In Colab\"/></a>"
      ]
    },
    {
      "cell_type": "markdown",
      "source": [
        "# **Notebook 10.5: Convolution for MNIST**\n",
        "\n",
        "This notebook builds a proper network for 2D convolution.  It works with the MNIST dataset (figure 15.15a), which was the original classic dataset for classifying images.  The network will take a 28x28 grayscale image and classify it into one of 10 classes representing a digit.\n",
        "\n",
        "The code is adapted from https://nextjournal.com/gkoehler/pytorch-mnist\n",
        "\n",
        "Work through the cells below, running each cell in turn. In various places you will see the words \"TO DO\". Follow the instructions at these places and make predictions about what is going to happen or write code to complete the functions.\n",
        "\n",
        "Contact me at udlbookmail@gmail.com if you find any mistakes or have any suggestions.\n"
      ],
      "metadata": {
        "id": "t9vk9Elugvmi"
      }
    },
    {
      "cell_type": "code",
      "source": [
        "import torch\n",
        "import torchvision\n",
        "import torch.nn as nn\n",
        "import torch.nn.functional as F\n",
        "import torch.optim as optim\n",
        "import matplotlib.pyplot as plt\n",
        "import random"
      ],
      "metadata": {
        "id": "YrXWAH7sUWvU"
      },
      "execution_count": 1,
      "outputs": []
    },
    {
      "cell_type": "code",
      "source": [
        "# Run this once to load the train and test data straight into a dataloader class\n",
        "# that will provide the batches\n",
        "\n",
        "# (It may complain that some files are missing because the files seem to have been\n",
        "# reorganized on the underlying website, but it still seems to work). If everything is working\n",
        "# properly, then the whole notebook should run to the end without further problems\n",
        "# even before you make changes.\n",
        "batch_size_train = 64\n",
        "batch_size_test = 1000\n",
        "\n",
        "# TODO Change this directory to point towards an existing directory\n",
        "myDir = '/files/'\n",
        "\n",
        "train_loader = torch.utils.data.DataLoader(\n",
        "  torchvision.datasets.MNIST(myDir, train=True, download=True,\n",
        "                             transform=torchvision.transforms.Compose([\n",
        "                               torchvision.transforms.ToTensor(),\n",
        "                               torchvision.transforms.Normalize(\n",
        "                                 (0.1307,), (0.3081,))\n",
        "                             ])),\n",
        "  batch_size=batch_size_train, shuffle=True)\n",
        "\n",
        "test_loader = torch.utils.data.DataLoader(\n",
        "  torchvision.datasets.MNIST(myDir, train=False, download=True,\n",
        "                             transform=torchvision.transforms.Compose([\n",
        "                               torchvision.transforms.ToTensor(),\n",
        "                               torchvision.transforms.Normalize(\n",
        "                                 (0.1307,), (0.3081,))\n",
        "                             ])),\n",
        "  batch_size=batch_size_test, shuffle=True)"
      ],
      "metadata": {
        "id": "wScBGXXFVadm",
        "colab": {
          "base_uri": "https://localhost:8080/"
        },
        "outputId": "74848310-35a2-4757-b46a-7ef5e08707dc"
      },
      "execution_count": 2,
      "outputs": [
        {
          "output_type": "stream",
          "name": "stdout",
          "text": [
            "Downloading http://yann.lecun.com/exdb/mnist/train-images-idx3-ubyte.gz\n",
            "Failed to download (trying next):\n",
            "<urlopen error [SSL: CERTIFICATE_VERIFY_FAILED] certificate verify failed: certificate has expired (_ssl.c:1007)>\n",
            "\n",
            "Downloading https://ossci-datasets.s3.amazonaws.com/mnist/train-images-idx3-ubyte.gz\n",
            "Downloading https://ossci-datasets.s3.amazonaws.com/mnist/train-images-idx3-ubyte.gz to /files/MNIST/raw/train-images-idx3-ubyte.gz\n"
          ]
        },
        {
          "output_type": "stream",
          "name": "stderr",
          "text": [
            "100%|██████████| 9.91M/9.91M [00:00<00:00, 169MB/s]\n"
          ]
        },
        {
          "output_type": "stream",
          "name": "stdout",
          "text": [
            "Extracting /files/MNIST/raw/train-images-idx3-ubyte.gz to /files/MNIST/raw\n",
            "\n",
            "Downloading http://yann.lecun.com/exdb/mnist/train-labels-idx1-ubyte.gz\n",
            "Failed to download (trying next):\n",
            "<urlopen error [SSL: CERTIFICATE_VERIFY_FAILED] certificate verify failed: certificate has expired (_ssl.c:1007)>\n",
            "\n",
            "Downloading https://ossci-datasets.s3.amazonaws.com/mnist/train-labels-idx1-ubyte.gz\n",
            "Downloading https://ossci-datasets.s3.amazonaws.com/mnist/train-labels-idx1-ubyte.gz to /files/MNIST/raw/train-labels-idx1-ubyte.gz\n"
          ]
        },
        {
          "output_type": "stream",
          "name": "stderr",
          "text": [
            "100%|██████████| 28.9k/28.9k [00:00<00:00, 66.1MB/s]"
          ]
        },
        {
          "output_type": "stream",
          "name": "stdout",
          "text": [
            "Extracting /files/MNIST/raw/train-labels-idx1-ubyte.gz to /files/MNIST/raw\n",
            "\n",
            "Downloading http://yann.lecun.com/exdb/mnist/t10k-images-idx3-ubyte.gz\n",
            "Failed to download (trying next):\n",
            "<urlopen error [SSL: CERTIFICATE_VERIFY_FAILED] certificate verify failed: certificate has expired (_ssl.c:1007)>\n",
            "\n",
            "Downloading https://ossci-datasets.s3.amazonaws.com/mnist/t10k-images-idx3-ubyte.gz\n"
          ]
        },
        {
          "output_type": "stream",
          "name": "stderr",
          "text": [
            "\n"
          ]
        },
        {
          "output_type": "stream",
          "name": "stdout",
          "text": [
            "Downloading https://ossci-datasets.s3.amazonaws.com/mnist/t10k-images-idx3-ubyte.gz to /files/MNIST/raw/t10k-images-idx3-ubyte.gz\n"
          ]
        },
        {
          "output_type": "stream",
          "name": "stderr",
          "text": [
            "100%|██████████| 1.65M/1.65M [00:00<00:00, 53.3MB/s]\n"
          ]
        },
        {
          "output_type": "stream",
          "name": "stdout",
          "text": [
            "Extracting /files/MNIST/raw/t10k-images-idx3-ubyte.gz to /files/MNIST/raw\n",
            "\n",
            "Downloading http://yann.lecun.com/exdb/mnist/t10k-labels-idx1-ubyte.gz\n",
            "Failed to download (trying next):\n",
            "<urlopen error [SSL: CERTIFICATE_VERIFY_FAILED] certificate verify failed: certificate has expired (_ssl.c:1007)>\n",
            "\n",
            "Downloading https://ossci-datasets.s3.amazonaws.com/mnist/t10k-labels-idx1-ubyte.gz\n",
            "Downloading https://ossci-datasets.s3.amazonaws.com/mnist/t10k-labels-idx1-ubyte.gz to /files/MNIST/raw/t10k-labels-idx1-ubyte.gz\n"
          ]
        },
        {
          "output_type": "stream",
          "name": "stderr",
          "text": [
            "100%|██████████| 4.54k/4.54k [00:00<00:00, 11.9MB/s]\n"
          ]
        },
        {
          "output_type": "stream",
          "name": "stdout",
          "text": [
            "Extracting /files/MNIST/raw/t10k-labels-idx1-ubyte.gz to /files/MNIST/raw\n",
            "\n"
          ]
        }
      ]
    },
    {
      "cell_type": "code",
      "source": [
        "# Let's draw some of the training data\n",
        "examples = enumerate(test_loader)\n",
        "batch_idx, (example_data, example_targets) = next(examples)\n",
        "\n",
        "fig = plt.figure()\n",
        "for i in range(6):\n",
        "  plt.subplot(2,3,i+1)\n",
        "  plt.tight_layout()\n",
        "  plt.imshow(example_data[i][0], cmap='gray', interpolation='none')\n",
        "  plt.title(\"Ground Truth: {}\".format(example_targets[i]))\n",
        "  plt.xticks([])\n",
        "  plt.yticks([])\n",
        "plt.show()"
      ],
      "metadata": {
        "id": "8bKADvLHbiV5",
        "colab": {
          "base_uri": "https://localhost:8080/",
          "height": 438
        },
        "outputId": "9cfcae30-4e96-4e7f-885f-9ab7743a44c0"
      },
      "execution_count": 3,
      "outputs": [
        {
          "output_type": "display_data",
          "data": {
            "text/plain": [
              "<Figure size 640x480 with 6 Axes>"
            ],
            "image/png": "[encoded data removed]"
          },
          "metadata": {}
        }
      ]
    },
    {
      "cell_type": "markdown",
      "source": [
        "Define the network.  This is a more typical way to define a network than the sequential structure.  We define a class for the network, and define the parameters in the constructor.  Then we use a function called forward to actually run the network.  It's easy to see how you might use residual connections in this format."
      ],
      "metadata": {
        "id": "_sFvRDGrl4qe"
      }
    },
    {
      "cell_type": "code",
      "source": [
        "from os import X_OK\n",
        "# TODO Change this class to implement\n",
        "# 1. A valid convolution with kernel size 5, 1 input channel and 10 output channels\n",
        "# 2. A max pooling operation over a 2x2 area\n",
        "# 3. A Relu\n",
        "# 4. A valid convolution with kernel size 5, 10 input channels and 20 output channels\n",
        "# 5. A 2D Dropout layer\n",
        "# 6. A max pooling operation over a 2x2 area\n",
        "# 7. A relu\n",
        "# 8. A flattening operation\n",
        "# 9. A fully connected layer mapping from (whatever dimensions we are at-- find out using .shape) to 50\n",
        "# 10. A ReLU\n",
        "# 11. A fully connected layer mapping from 50 to 10 dimensions\n",
        "# 12. A softmax function.\n",
        "\n",
        "# Replace this class which implements a minimal network (which still does okay)\n",
        "class Net(nn.Module):\n",
        "    def __init__(self):\n",
        "        super(Net, self).__init__()\n",
        "        # Valid convolution, 1 channel in, 10 channels out, stride 1, kernel size = 5\n",
        "        self.conv1 = nn.Conv2d(1, 10, kernel_size=5)\n",
        "        # Valid convolution, 10 channel in, 20 channels out, stride 1, kernel size = 5\n",
        "        self.conv2 = nn.Conv2d(10, 20, kernel_size=5)\n",
        "        # Dropout for convolutions\n",
        "        self.drop = nn.Dropout2d()\n",
        "        # Fully connected layer dynamic\n",
        "        self.fc1 = None\n",
        "        # fully connected layer 50 to 10\n",
        "        self.fc2 = nn.Linear(50, 10)\n",
        "\n",
        "    def forward(self, x):\n",
        "        x = self.conv1(x)\n",
        "        x = F.max_pool2d(x,2)\n",
        "        x = F.relu(x)\n",
        "        x = self.conv2(x)\n",
        "        x = self.drop(x)\n",
        "        x = F.max_pool2d(x,2)\n",
        "        x = F.relu(x)\n",
        "        x = x.flatten(1)\n",
        "        if self.fc1 is None:\n",
        "          input_size = x.shape[1]\n",
        "          self.fc1 = nn.Linear(input_size, 50)\n",
        "        x = self.fc1(x)\n",
        "        x = F.relu(x)\n",
        "        x = self.fc2(x)\n",
        "        x = F.log_softmax(x, dim=1)\n",
        "        return x\n"
      ],
      "metadata": {
        "id": "EQkvw2KOPVl7"
      },
      "execution_count": 19,
      "outputs": []
    },
    {
      "cell_type": "code",
      "source": [
        "# He initialization of weights\n",
        "def weights_init(layer_in):\n",
        "  if isinstance(layer_in, nn.Linear):\n",
        "    nn.init.kaiming_uniform_(layer_in.weight)\n",
        "    layer_in.bias.data.fill_(0.0)"
      ],
      "metadata": {
        "id": "qWZtkCZcU_dg"
      },
      "execution_count": 5,
      "outputs": []
    },
    {
      "cell_type": "code",
      "source": [
        "# Create network\n",
        "model = Net()\n",
        "# Initialize model weights\n",
        "model.apply(weights_init)\n",
        "# Define optimizer\n",
        "optimizer = optim.SGD(model.parameters(), lr=0.01, momentum=0.5)"
      ],
      "metadata": {
        "id": "FslroPJJffrh"
      },
      "execution_count": 20,
      "outputs": []
    },
    {
      "cell_type": "code",
      "source": [
        "# Main training routine\n",
        "def train(epoch):\n",
        "  model.train()\n",
        "  # Get each\n",
        "  for batch_idx, (data, target) in enumerate(train_loader):\n",
        "    optimizer.zero_grad()\n",
        "    output = model(data)\n",
        "    loss = F.nll_loss(output, target)\n",
        "    loss.backward()\n",
        "    optimizer.step()\n",
        "    # Store results\n",
        "    if batch_idx % 10 == 0:\n",
        "      print('Train Epoch: {} [{}/{}]\\tLoss: {:.6f}'.format(\n",
        "        epoch, batch_idx * len(data), len(train_loader.dataset), loss.item()))"
      ],
      "metadata": {
        "id": "xKQd9PzkQ766"
      },
      "execution_count": 7,
      "outputs": []
    },
    {
      "cell_type": "code",
      "source": [
        "# Run on test data\n",
        "def test():\n",
        "  model.eval()\n",
        "  test_loss = 0\n",
        "  correct = 0\n",
        "  with torch.no_grad():\n",
        "    for data, target in test_loader:\n",
        "      output = model(data)\n",
        "      test_loss += F.nll_loss(output, target, size_average=False).item()\n",
        "      pred = output.data.max(1, keepdim=True)[1]\n",
        "      correct += pred.eq(target.data.view_as(pred)).sum()\n",
        "  test_loss /= len(test_loader.dataset)\n",
        "  print('\\nTest set: Avg. loss: {:.4f}, Accuracy: {}/{} ({:.0f}%)\\n'.format(\n",
        "    test_loss, correct, len(test_loader.dataset),\n",
        "    100. * correct / len(test_loader.dataset)))"
      ],
      "metadata": {
        "id": "Byn-f7qWRLxX"
      },
      "execution_count": 8,
      "outputs": []
    },
    {
      "cell_type": "code",
      "source": [
        "# Get initial performance\n",
        "test()\n",
        "# Train for three epochs\n",
        "n_epochs = 3\n",
        "for epoch in range(1, n_epochs + 1):\n",
        "  train(epoch)\n",
        "  test()"
      ],
      "metadata": {
        "id": "YgLaex1pfhqz",
        "colab": {
          "base_uri": "https://localhost:8080/"
        },
        "outputId": "41a84cc4-f5d8-48a2-a677-dd4e5ed41691"
      },
      "execution_count": 21,
      "outputs": [
        {
          "output_type": "stream",
          "name": "stderr",
          "text": [
            "/usr/local/lib/python3.10/dist-packages/torch/nn/_reduction.py:51: UserWarning: size_average and reduce args will be deprecated, please use reduction='sum' instead.\n",
            "  warnings.warn(warning.format(ret))\n"
          ]
        },
        {
          "output_type": "stream",
          "name": "stdout",
          "text": [
            "\n",
            "Test set: Avg. loss: 2.3222, Accuracy: 1012/10000 (10%)\n",
            "\n",
            "Train Epoch: 1 [0/60000]\tLoss: 2.383888\n",
            "Train Epoch: 1 [640/60000]\tLoss: 2.310529\n",
            "Train Epoch: 1 [1280/60000]\tLoss: 2.290553\n",
            "Train Epoch: 1 [1920/60000]\tLoss: 2.258260\n",
            "Train Epoch: 1 [2560/60000]\tLoss: 2.236287\n",
            "Train Epoch: 1 [3200/60000]\tLoss: 2.237206\n",
            "Train Epoch: 1 [3840/60000]\tLoss: 2.229438\n",
            "Train Epoch: 1 [4480/60000]\tLoss: 2.251007\n",
            "Train Epoch: 1 [5120/60000]\tLoss: 2.157120\n",
            "Train Epoch: 1 [5760/60000]\tLoss: 2.128663\n",
            "Train Epoch: 1 [6400/60000]\tLoss: 2.155184\n",
            "Train Epoch: 1 [7040/60000]\tLoss: 2.110973\n",
            "Train Epoch: 1 [7680/60000]\tLoss: 2.030843\n",
            "Train Epoch: 1 [8320/60000]\tLoss: 2.165180\n",
            "Train Epoch: 1 [8960/60000]\tLoss: 1.988167\n",
            "Train Epoch: 1 [9600/60000]\tLoss: 2.061130\n",
            "Train Epoch: 1 [10240/60000]\tLoss: 2.055328\n",
            "Train Epoch: 1 [10880/60000]\tLoss: 2.023695\n",
            "Train Epoch: 1 [11520/60000]\tLoss: 2.019114\n",
            "Train Epoch: 1 [12160/60000]\tLoss: 2.033931\n",
            "Train Epoch: 1 [12800/60000]\tLoss: 1.696776\n",
            "Train Epoch: 1 [13440/60000]\tLoss: 1.790346\n",
            "Train Epoch: 1 [14080/60000]\tLoss: 1.777153\n",
            "Train Epoch: 1 [14720/60000]\tLoss: 1.631692\n",
            "Train Epoch: 1 [15360/60000]\tLoss: 1.835869\n",
            "Train Epoch: 1 [16000/60000]\tLoss: 1.561059\n",
            "Train Epoch: 1 [16640/60000]\tLoss: 1.676681\n",
            "Train Epoch: 1 [17280/60000]\tLoss: 1.404015\n",
            "Train Epoch: 1 [17920/60000]\tLoss: 1.639460\n",
            "Train Epoch: 1 [18560/60000]\tLoss: 1.578387\n",
            "Train Epoch: 1 [19200/60000]\tLoss: 1.529708\n",
            "Train Epoch: 1 [19840/60000]\tLoss: 1.447571\n",
            "Train Epoch: 1 [20480/60000]\tLoss: 1.388213\n",
            "Train Epoch: 1 [21120/60000]\tLoss: 1.466751\n",
            "Train Epoch: 1 [21760/60000]\tLoss: 1.265084\n",
            "Train Epoch: 1 [22400/60000]\tLoss: 1.496998\n",
            "Train Epoch: 1 [23040/60000]\tLoss: 1.388992\n",
            "Train Epoch: 1 [23680/60000]\tLoss: 1.281018\n",
            "Train Epoch: 1 [24320/60000]\tLoss: 1.297281\n",
            "Train Epoch: 1 [24960/60000]\tLoss: 1.187467\n",
            "Train Epoch: 1 [25600/60000]\tLoss: 1.223676\n",
            "Train Epoch: 1 [26240/60000]\tLoss: 1.427372\n",
            "Train Epoch: 1 [26880/60000]\tLoss: 1.051777\n",
            "Train Epoch: 1 [27520/60000]\tLoss: 1.127237\n",
            "Train Epoch: 1 [28160/60000]\tLoss: 1.004093\n",
            "Train Epoch: 1 [28800/60000]\tLoss: 1.219014\n",
            "Train Epoch: 1 [29440/60000]\tLoss: 1.112924\n",
            "Train Epoch: 1 [30080/60000]\tLoss: 1.058272\n",
            "Train Epoch: 1 [30720/60000]\tLoss: 1.096649\n",
            "Train Epoch: 1 [31360/60000]\tLoss: 0.962040\n",
            "Train Epoch: 1 [32000/60000]\tLoss: 1.078233\n",
            "Train Epoch: 1 [32640/60000]\tLoss: 0.989453\n",
            "Train Epoch: 1 [33280/60000]\tLoss: 1.021329\n",
            "Train Epoch: 1 [33920/60000]\tLoss: 0.960200\n",
            "Train Epoch: 1 [34560/60000]\tLoss: 1.052099\n",
            "Train Epoch: 1 [35200/60000]\tLoss: 0.966755\n",
            "Train Epoch: 1 [35840/60000]\tLoss: 0.697608\n",
            "Train Epoch: 1 [36480/60000]\tLoss: 0.866224\n",
            "Train Epoch: 1 [37120/60000]\tLoss: 0.937740\n",
            "Train Epoch: 1 [37760/60000]\tLoss: 1.041119\n",
            "Train Epoch: 1 [38400/60000]\tLoss: 0.881835\n",
            "Train Epoch: 1 [39040/60000]\tLoss: 0.658636\n",
            "Train Epoch: 1 [39680/60000]\tLoss: 0.864129\n",
            "Train Epoch: 1 [40320/60000]\tLoss: 0.925782\n",
            "Train Epoch: 1 [40960/60000]\tLoss: 0.980922\n",
            "Train Epoch: 1 [41600/60000]\tLoss: 0.844859\n",
            "Train Epoch: 1 [42240/60000]\tLoss: 0.961631\n",
            "Train Epoch: 1 [42880/60000]\tLoss: 0.950800\n",
            "Train Epoch: 1 [43520/60000]\tLoss: 1.079385\n",
            "Train Epoch: 1 [44160/60000]\tLoss: 0.660666\n",
            "Train Epoch: 1 [44800/60000]\tLoss: 0.841142\n",
            "Train Epoch: 1 [45440/60000]\tLoss: 0.737241\n",
            "Train Epoch: 1 [46080/60000]\tLoss: 0.632782\n",
            "Train Epoch: 1 [46720/60000]\tLoss: 0.610696\n",
            "Train Epoch: 1 [47360/60000]\tLoss: 0.776599\n",
            "Train Epoch: 1 [48000/60000]\tLoss: 0.771596\n",
            "Train Epoch: 1 [48640/60000]\tLoss: 0.563403\n",
            "Train Epoch: 1 [49280/60000]\tLoss: 0.567216\n",
            "Train Epoch: 1 [49920/60000]\tLoss: 0.764945\n",
            "Train Epoch: 1 [50560/60000]\tLoss: 0.630307\n",
            "Train Epoch: 1 [51200/60000]\tLoss: 0.753289\n",
            "Train Epoch: 1 [51840/60000]\tLoss: 0.658192\n",
            "Train Epoch: 1 [52480/60000]\tLoss: 0.840034\n",
            "Train Epoch: 1 [53120/60000]\tLoss: 0.804249\n",
            "Train Epoch: 1 [53760/60000]\tLoss: 0.503578\n",
            "Train Epoch: 1 [54400/60000]\tLoss: 0.583194\n",
            "Train Epoch: 1 [55040/60000]\tLoss: 0.854548\n",
            "Train Epoch: 1 [55680/60000]\tLoss: 0.779153\n",
            "Train Epoch: 1 [56320/60000]\tLoss: 0.549530\n",
            "Train Epoch: 1 [56960/60000]\tLoss: 0.745844\n",
            "Train Epoch: 1 [57600/60000]\tLoss: 0.877602\n",
            "Train Epoch: 1 [58240/60000]\tLoss: 0.664870\n",
            "Train Epoch: 1 [58880/60000]\tLoss: 0.605228\n",
            "Train Epoch: 1 [59520/60000]\tLoss: 0.566563\n",
            "\n",
            "Test set: Avg. loss: 0.3402, Accuracy: 9045/10000 (90%)\n",
            "\n",
            "Train Epoch: 2 [0/60000]\tLoss: 0.771297\n",
            "Train Epoch: 2 [640/60000]\tLoss: 0.618626\n",
            "Train Epoch: 2 [1280/60000]\tLoss: 0.826468\n",
            "Train Epoch: 2 [1920/60000]\tLoss: 0.800107\n",
            "Train Epoch: 2 [2560/60000]\tLoss: 0.935251\n",
            "Train Epoch: 2 [3200/60000]\tLoss: 0.816867\n",
            "Train Epoch: 2 [3840/60000]\tLoss: 0.544962\n",
            "Train Epoch: 2 [4480/60000]\tLoss: 0.734050\n",
            "Train Epoch: 2 [5120/60000]\tLoss: 0.608954\n",
            "Train Epoch: 2 [5760/60000]\tLoss: 0.439846\n",
            "Train Epoch: 2 [6400/60000]\tLoss: 0.654722\n",
            "Train Epoch: 2 [7040/60000]\tLoss: 0.544515\n",
            "Train Epoch: 2 [7680/60000]\tLoss: 0.674741\n",
            "Train Epoch: 2 [8320/60000]\tLoss: 0.735713\n",
            "Train Epoch: 2 [8960/60000]\tLoss: 0.745732\n",
            "Train Epoch: 2 [9600/60000]\tLoss: 0.486849\n",
            "Train Epoch: 2 [10240/60000]\tLoss: 0.535076\n",
            "Train Epoch: 2 [10880/60000]\tLoss: 0.576810\n",
            "Train Epoch: 2 [11520/60000]\tLoss: 0.658271\n",
            "Train Epoch: 2 [12160/60000]\tLoss: 0.620066\n",
            "Train Epoch: 2 [12800/60000]\tLoss: 0.766102\n",
            "Train Epoch: 2 [13440/60000]\tLoss: 0.613416\n",
            "Train Epoch: 2 [14080/60000]\tLoss: 0.634363\n",
            "Train Epoch: 2 [14720/60000]\tLoss: 0.578151\n",
            "Train Epoch: 2 [15360/60000]\tLoss: 1.097607\n",
            "Train Epoch: 2 [16000/60000]\tLoss: 0.621113\n",
            "Train Epoch: 2 [16640/60000]\tLoss: 0.645829\n",
            "Train Epoch: 2 [17280/60000]\tLoss: 0.496177\n",
            "Train Epoch: 2 [17920/60000]\tLoss: 0.568664\n",
            "Train Epoch: 2 [18560/60000]\tLoss: 0.474003\n",
            "Train Epoch: 2 [19200/60000]\tLoss: 0.479488\n",
            "Train Epoch: 2 [19840/60000]\tLoss: 0.558443\n",
            "Train Epoch: 2 [20480/60000]\tLoss: 0.618561\n",
            "Train Epoch: 2 [21120/60000]\tLoss: 0.728029\n",
            "Train Epoch: 2 [21760/60000]\tLoss: 0.546520\n",
            "Train Epoch: 2 [22400/60000]\tLoss: 0.735366\n",
            "Train Epoch: 2 [23040/60000]\tLoss: 0.557406\n",
            "Train Epoch: 2 [23680/60000]\tLoss: 0.407382\n",
            "Train Epoch: 2 [24320/60000]\tLoss: 0.462105\n",
            "Train Epoch: 2 [24960/60000]\tLoss: 0.659739\n",
            "Train Epoch: 2 [25600/60000]\tLoss: 0.516446\n",
            "Train Epoch: 2 [26240/60000]\tLoss: 0.516779\n",
            "Train Epoch: 2 [26880/60000]\tLoss: 0.675470\n",
            "Train Epoch: 2 [27520/60000]\tLoss: 0.427199\n",
            "Train Epoch: 2 [28160/60000]\tLoss: 0.674144\n",
            "Train Epoch: 2 [28800/60000]\tLoss: 0.669869\n",
            "Train Epoch: 2 [29440/60000]\tLoss: 0.445872\n",
            "Train Epoch: 2 [30080/60000]\tLoss: 0.527253\n",
            "Train Epoch: 2 [30720/60000]\tLoss: 0.822594\n",
            "Train Epoch: 2 [31360/60000]\tLoss: 0.356285\n",
            "Train Epoch: 2 [32000/60000]\tLoss: 0.430236\n",
            "Train Epoch: 2 [32640/60000]\tLoss: 0.627440\n",
            "Train Epoch: 2 [33280/60000]\tLoss: 0.573089\n",
            "Train Epoch: 2 [33920/60000]\tLoss: 0.453608\n",
            "Train Epoch: 2 [34560/60000]\tLoss: 0.431273\n",
            "Train Epoch: 2 [35200/60000]\tLoss: 0.614477\n",
            "Train Epoch: 2 [35840/60000]\tLoss: 0.807131\n",
            "Train Epoch: 2 [36480/60000]\tLoss: 0.582017\n",
            "Train Epoch: 2 [37120/60000]\tLoss: 0.727684\n",
            "Train Epoch: 2 [37760/60000]\tLoss: 0.414687\n",
            "Train Epoch: 2 [38400/60000]\tLoss: 0.505505\n",
            "Train Epoch: 2 [39040/60000]\tLoss: 0.443512\n",
            "Train Epoch: 2 [39680/60000]\tLoss: 0.407915\n",
            "Train Epoch: 2 [40320/60000]\tLoss: 0.416422\n",
            "Train Epoch: 2 [40960/60000]\tLoss: 0.551415\n",
            "Train Epoch: 2 [41600/60000]\tLoss: 0.442826\n",
            "Train Epoch: 2 [42240/60000]\tLoss: 0.604022\n",
            "Train Epoch: 2 [42880/60000]\tLoss: 0.480803\n",
            "Train Epoch: 2 [43520/60000]\tLoss: 0.584967\n",
            "Train Epoch: 2 [44160/60000]\tLoss: 0.321846\n",
            "Train Epoch: 2 [44800/60000]\tLoss: 0.597267\n",
            "Train Epoch: 2 [45440/60000]\tLoss: 0.426516\n",
            "Train Epoch: 2 [46080/60000]\tLoss: 0.561681\n",
            "Train Epoch: 2 [46720/60000]\tLoss: 0.597833\n",
            "Train Epoch: 2 [47360/60000]\tLoss: 0.666848\n",
            "Train Epoch: 2 [48000/60000]\tLoss: 0.421432\n",
            "Train Epoch: 2 [48640/60000]\tLoss: 0.460655\n",
            "Train Epoch: 2 [49280/60000]\tLoss: 0.535805\n",
            "Train Epoch: 2 [49920/60000]\tLoss: 0.665218\n",
            "Train Epoch: 2 [50560/60000]\tLoss: 0.793659\n",
            "Train Epoch: 2 [51200/60000]\tLoss: 0.528668\n",
            "Train Epoch: 2 [51840/60000]\tLoss: 0.385055\n",
            "Train Epoch: 2 [52480/60000]\tLoss: 0.513580\n",
            "Train Epoch: 2 [53120/60000]\tLoss: 0.599966\n",
            "Train Epoch: 2 [53760/60000]\tLoss: 0.352110\n",
            "Train Epoch: 2 [54400/60000]\tLoss: 0.490305\n",
            "Train Epoch: 2 [55040/60000]\tLoss: 0.497221\n",
            "Train Epoch: 2 [55680/60000]\tLoss: 0.832789\n",
            "Train Epoch: 2 [56320/60000]\tLoss: 0.560859\n",
            "Train Epoch: 2 [56960/60000]\tLoss: 0.415365\n",
            "Train Epoch: 2 [57600/60000]\tLoss: 0.573108\n",
            "Train Epoch: 2 [58240/60000]\tLoss: 0.421368\n",
            "Train Epoch: 2 [58880/60000]\tLoss: 0.565863\n",
            "Train Epoch: 2 [59520/60000]\tLoss: 0.630426\n",
            "\n",
            "Test set: Avg. loss: 0.2114, Accuracy: 9406/10000 (94%)\n",
            "\n",
            "Train Epoch: 3 [0/60000]\tLoss: 0.555539\n",
            "Train Epoch: 3 [640/60000]\tLoss: 0.498359\n",
            "Train Epoch: 3 [1280/60000]\tLoss: 0.364369\n",
            "Train Epoch: 3 [1920/60000]\tLoss: 0.452910\n",
            "Train Epoch: 3 [2560/60000]\tLoss: 0.652728\n",
            "Train Epoch: 3 [3200/60000]\tLoss: 0.514666\n",
            "Train Epoch: 3 [3840/60000]\tLoss: 0.511858\n",
            "Train Epoch: 3 [4480/60000]\tLoss: 0.505371\n",
            "Train Epoch: 3 [5120/60000]\tLoss: 0.608886\n",
            "Train Epoch: 3 [5760/60000]\tLoss: 0.717154\n",
            "Train Epoch: 3 [6400/60000]\tLoss: 0.488115\n",
            "Train Epoch: 3 [7040/60000]\tLoss: 0.456022\n",
            "Train Epoch: 3 [7680/60000]\tLoss: 0.653724\n",
            "Train Epoch: 3 [8320/60000]\tLoss: 0.653156\n",
            "Train Epoch: 3 [8960/60000]\tLoss: 0.667687\n",
            "Train Epoch: 3 [9600/60000]\tLoss: 0.549684\n",
            "Train Epoch: 3 [10240/60000]\tLoss: 0.440938\n",
            "Train Epoch: 3 [10880/60000]\tLoss: 0.551888\n",
            "Train Epoch: 3 [11520/60000]\tLoss: 0.692809\n",
            "Train Epoch: 3 [12160/60000]\tLoss: 0.413242\n",
            "Train Epoch: 3 [12800/60000]\tLoss: 0.557633\n",
            "Train Epoch: 3 [13440/60000]\tLoss: 0.375332\n",
            "Train Epoch: 3 [14080/60000]\tLoss: 0.482722\n",
            "Train Epoch: 3 [14720/60000]\tLoss: 0.257152\n",
            "Train Epoch: 3 [15360/60000]\tLoss: 0.295116\n",
            "Train Epoch: 3 [16000/60000]\tLoss: 0.450297\n",
            "Train Epoch: 3 [16640/60000]\tLoss: 0.510575\n",
            "Train Epoch: 3 [17280/60000]\tLoss: 0.254504\n",
            "Train Epoch: 3 [17920/60000]\tLoss: 0.493676\n",
            "Train Epoch: 3 [18560/60000]\tLoss: 0.435252\n",
            "Train Epoch: 3 [19200/60000]\tLoss: 0.363129\n",
            "Train Epoch: 3 [19840/60000]\tLoss: 0.547634\n",
            "Train Epoch: 3 [20480/60000]\tLoss: 0.501858\n",
            "Train Epoch: 3 [21120/60000]\tLoss: 0.490647\n",
            "Train Epoch: 3 [21760/60000]\tLoss: 0.546963\n",
            "Train Epoch: 3 [22400/60000]\tLoss: 0.527860\n",
            "Train Epoch: 3 [23040/60000]\tLoss: 0.321404\n",
            "Train Epoch: 3 [23680/60000]\tLoss: 0.546703\n",
            "Train Epoch: 3 [24320/60000]\tLoss: 0.681957\n",
            "Train Epoch: 3 [24960/60000]\tLoss: 0.543862\n",
            "Train Epoch: 3 [25600/60000]\tLoss: 0.398118\n",
            "Train Epoch: 3 [26240/60000]\tLoss: 0.378762\n",
            "Train Epoch: 3 [26880/60000]\tLoss: 0.241159\n",
            "Train Epoch: 3 [27520/60000]\tLoss: 0.538632\n",
            "Train Epoch: 3 [28160/60000]\tLoss: 0.438188\n",
            "Train Epoch: 3 [28800/60000]\tLoss: 0.532793\n",
            "Train Epoch: 3 [29440/60000]\tLoss: 0.556655\n",
            "Train Epoch: 3 [30080/60000]\tLoss: 0.348383\n",
            "Train Epoch: 3 [30720/60000]\tLoss: 0.378980\n",
            "Train Epoch: 3 [31360/60000]\tLoss: 0.628091\n",
            "Train Epoch: 3 [32000/60000]\tLoss: 0.463229\n",
            "Train Epoch: 3 [32640/60000]\tLoss: 0.243066\n",
            "Train Epoch: 3 [33280/60000]\tLoss: 0.292467\n",
            "Train Epoch: 3 [33920/60000]\tLoss: 0.603939\n",
            "Train Epoch: 3 [34560/60000]\tLoss: 0.448572\n",
            "Train Epoch: 3 [35200/60000]\tLoss: 0.225944\n",
            "Train Epoch: 3 [35840/60000]\tLoss: 0.338901\n",
            "Train Epoch: 3 [36480/60000]\tLoss: 0.536385\n",
            "Train Epoch: 3 [37120/60000]\tLoss: 0.368975\n",
            "Train Epoch: 3 [37760/60000]\tLoss: 0.379011\n",
            "Train Epoch: 3 [38400/60000]\tLoss: 0.275297\n",
            "Train Epoch: 3 [39040/60000]\tLoss: 0.424513\n",
            "Train Epoch: 3 [39680/60000]\tLoss: 0.422942\n",
            "Train Epoch: 3 [40320/60000]\tLoss: 0.615567\n",
            "Train Epoch: 3 [40960/60000]\tLoss: 0.428666\n",
            "Train Epoch: 3 [41600/60000]\tLoss: 0.480584\n",
            "Train Epoch: 3 [42240/60000]\tLoss: 0.293009\n",
            "Train Epoch: 3 [42880/60000]\tLoss: 0.427990\n",
            "Train Epoch: 3 [43520/60000]\tLoss: 0.395741\n",
            "Train Epoch: 3 [44160/60000]\tLoss: 0.387935\n",
            "Train Epoch: 3 [44800/60000]\tLoss: 0.420947\n",
            "Train Epoch: 3 [45440/60000]\tLoss: 0.495285\n",
            "Train Epoch: 3 [46080/60000]\tLoss: 0.402492\n",
            "Train Epoch: 3 [46720/60000]\tLoss: 0.408347\n",
            "Train Epoch: 3 [47360/60000]\tLoss: 0.534229\n",
            "Train Epoch: 3 [48000/60000]\tLoss: 0.586248\n",
            "Train Epoch: 3 [48640/60000]\tLoss: 0.727377\n",
            "Train Epoch: 3 [49280/60000]\tLoss: 0.422408\n",
            "Train Epoch: 3 [49920/60000]\tLoss: 0.363080\n",
            "Train Epoch: 3 [50560/60000]\tLoss: 0.546515\n",
            "Train Epoch: 3 [51200/60000]\tLoss: 0.310474\n",
            "Train Epoch: 3 [51840/60000]\tLoss: 0.285767\n",
            "Train Epoch: 3 [52480/60000]\tLoss: 0.335139\n",
            "Train Epoch: 3 [53120/60000]\tLoss: 0.368313\n",
            "Train Epoch: 3 [53760/60000]\tLoss: 0.401833\n",
            "Train Epoch: 3 [54400/60000]\tLoss: 0.371418\n",
            "Train Epoch: 3 [55040/60000]\tLoss: 0.451060\n",
            "Train Epoch: 3 [55680/60000]\tLoss: 0.358009\n",
            "Train Epoch: 3 [56320/60000]\tLoss: 0.397062\n",
            "Train Epoch: 3 [56960/60000]\tLoss: 0.258851\n",
            "Train Epoch: 3 [57600/60000]\tLoss: 0.314042\n",
            "Train Epoch: 3 [58240/60000]\tLoss: 0.293770\n",
            "Train Epoch: 3 [58880/60000]\tLoss: 0.318051\n",
            "Train Epoch: 3 [59520/60000]\tLoss: 0.305984\n",
            "\n",
            "Test set: Avg. loss: 0.1721, Accuracy: 9507/10000 (95%)\n",
            "\n"
          ]
        }
      ]
    },
    {
      "cell_type": "code",
      "source": [
        "# Run network on data we got before and show predictions\n",
        "output = model(example_data)\n",
        "\n",
        "fig = plt.figure()\n",
        "for i in range(10):\n",
        "  plt.subplot(5,5,i+1)\n",
        "  plt.tight_layout()\n",
        "  plt.imshow(example_data[i][0], cmap='gray', interpolation='none')\n",
        "  plt.title(\"Prediction: {}\".format(\n",
        "    output.data.max(1, keepdim=True)[1][i].item()))\n",
        "  plt.xticks([])\n",
        "  plt.yticks([])\n",
        "plt.show()"
      ],
      "metadata": {
        "id": "o7fRUAy9Se1B",
        "colab": {
          "base_uri": "https://localhost:8080/",
          "height": 207
        },
        "outputId": "046ab20c-a1b7-4e9c-aa66-7af3d243b3ae"
      },
      "execution_count": 22,
      "outputs": [
        {
          "output_type": "display_data",
          "data": {
            "text/plain": [
              "<Figure size 640x480 with 10 Axes>"
            ],
            "image/png": "[encoded data removed]"
          },
          "metadata": {}
        }
      ]
    }
  ]
}