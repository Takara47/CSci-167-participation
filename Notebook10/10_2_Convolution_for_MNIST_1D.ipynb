{
  "nbformat": 4,
  "nbformat_minor": 0,
  "metadata": {
    "colab": {
      "provenance": [],
      "include_colab_link": true
    },
    "kernelspec": {
      "name": "python3",
      "display_name": "Python 3"
    },
    "language_info": {
      "name": "python"
    }
  },
  "cells": [
    {
      "cell_type": "markdown",
      "metadata": {
        "id": "view-in-github",
        "colab_type": "text"
      },
      "source": [
        "<a href=\"https://colab.research.google.com/github/Takara47/CSci-167-participation/blob/main/Notebook10/10_2_Convolution_for_MNIST_1D.ipynb\" target=\"_parent\"><img src=\"https://colab.research.google.com/assets/colab-badge.svg\" alt=\"Open In Colab\"/></a>"
      ]
    },
    {
      "cell_type": "markdown",
      "source": [
        "# **Notebook 10.2: Convolution for MNIST-1D**\n",
        "\n",
        "This notebook investigates a 1D convolutional network for MNIST-1D as in figure 10.7 and 10.8a.\n",
        "\n",
        "Work through the cells below, running each cell in turn. In various places you will see the words \"TO DO\". Follow the instructions at these places and make predictions about what is going to happen or write code to complete the functions.\n",
        "\n",
        "Contact me at udlbookmail@gmail.com if you find any mistakes or have any suggestions.\n",
        "\n"
      ],
      "metadata": {
        "id": "t9vk9Elugvmi"
      }
    },
    {
      "cell_type": "code",
      "source": [
        "# Run this if you're in a Colab to install MNIST 1D repository\n",
        "!pip install git+https://github.com/greydanus/mnist1d"
      ],
      "metadata": {
        "id": "D5yLObtZCi9J",
        "colab": {
          "base_uri": "https://localhost:8080/"
        },
        "outputId": "5893c76f-e91b-4166-a46e-82df661fe9eb"
      },
      "execution_count": 1,
      "outputs": [
        {
          "output_type": "stream",
          "name": "stdout",
          "text": [
            "Collecting git+https://github.com/greydanus/mnist1d\n",
            "  Cloning https://github.com/greydanus/mnist1d to /tmp/pip-req-build-xb3eql1a\n",
            "  Running command git clone --filter=blob:none --quiet https://github.com/greydanus/mnist1d /tmp/pip-req-build-xb3eql1a\n",
            "  Resolved https://github.com/greydanus/mnist1d to commit 7878d96082abd200c546a07a4101fa90b30fdf7e\n",
            "  Installing build dependencies ... \u001b[?25l\u001b[?25hdone\n",
            "  Getting requirements to build wheel ... \u001b[?25l\u001b[?25hdone\n",
            "  Preparing metadata (pyproject.toml) ... \u001b[?25l\u001b[?25hdone\n",
            "Requirement already satisfied: requests in /usr/local/lib/python3.10/dist-packages (from mnist1d==0.0.2.post16) (2.32.3)\n",
            "Requirement already satisfied: numpy in /usr/local/lib/python3.10/dist-packages (from mnist1d==0.0.2.post16) (1.26.4)\n",
            "Requirement already satisfied: matplotlib in /usr/local/lib/python3.10/dist-packages (from mnist1d==0.0.2.post16) (3.7.1)\n",
            "Requirement already satisfied: scipy in /usr/local/lib/python3.10/dist-packages (from mnist1d==0.0.2.post16) (1.13.1)\n",
            "Requirement already satisfied: contourpy>=1.0.1 in /usr/local/lib/python3.10/dist-packages (from matplotlib->mnist1d==0.0.2.post16) (1.3.0)\n",
            "Requirement already satisfied: cycler>=0.10 in /usr/local/lib/python3.10/dist-packages (from matplotlib->mnist1d==0.0.2.post16) (0.12.1)\n",
            "Requirement already satisfied: fonttools>=4.22.0 in /usr/local/lib/python3.10/dist-packages (from matplotlib->mnist1d==0.0.2.post16) (4.54.1)\n",
            "Requirement already satisfied: kiwisolver>=1.0.1 in /usr/local/lib/python3.10/dist-packages (from matplotlib->mnist1d==0.0.2.post16) (1.4.7)\n",
            "Requirement already satisfied: packaging>=20.0 in /usr/local/lib/python3.10/dist-packages (from matplotlib->mnist1d==0.0.2.post16) (24.1)\n",
            "Requirement already satisfied: pillow>=6.2.0 in /usr/local/lib/python3.10/dist-packages (from matplotlib->mnist1d==0.0.2.post16) (10.4.0)\n",
            "Requirement already satisfied: pyparsing>=2.3.1 in /usr/local/lib/python3.10/dist-packages (from matplotlib->mnist1d==0.0.2.post16) (3.2.0)\n",
            "Requirement already satisfied: python-dateutil>=2.7 in /usr/local/lib/python3.10/dist-packages (from matplotlib->mnist1d==0.0.2.post16) (2.8.2)\n",
            "Requirement already satisfied: charset-normalizer<4,>=2 in /usr/local/lib/python3.10/dist-packages (from requests->mnist1d==0.0.2.post16) (3.4.0)\n",
            "Requirement already satisfied: idna<4,>=2.5 in /usr/local/lib/python3.10/dist-packages (from requests->mnist1d==0.0.2.post16) (3.10)\n",
            "Requirement already satisfied: urllib3<3,>=1.21.1 in /usr/local/lib/python3.10/dist-packages (from requests->mnist1d==0.0.2.post16) (2.2.3)\n",
            "Requirement already satisfied: certifi>=2017.4.17 in /usr/local/lib/python3.10/dist-packages (from requests->mnist1d==0.0.2.post16) (2024.8.30)\n",
            "Requirement already satisfied: six>=1.5 in /usr/local/lib/python3.10/dist-packages (from python-dateutil>=2.7->matplotlib->mnist1d==0.0.2.post16) (1.16.0)\n",
            "Building wheels for collected packages: mnist1d\n",
            "  Building wheel for mnist1d (pyproject.toml) ... \u001b[?25l\u001b[?25hdone\n",
            "  Created wheel for mnist1d: filename=mnist1d-0.0.2.post16-py3-none-any.whl size=14624 sha256=2d0c7a23feb2944758b5ae54e435ebe0c29bf82758010d51a93c47f922ac7921\n",
            "  Stored in directory: /tmp/pip-ephem-wheel-cache-tsr98qd_/wheels/41/95/55/45fcf7d38cfa97e35682da6c5017d4513729131326ce935371\n",
            "Successfully built mnist1d\n",
            "Installing collected packages: mnist1d\n",
            "Successfully installed mnist1d-0.0.2.post16\n"
          ]
        }
      ]
    },
    {
      "cell_type": "code",
      "source": [
        "import numpy as np\n",
        "import os\n",
        "import torch, torch.nn as nn\n",
        "from torch.utils.data import TensorDataset, DataLoader\n",
        "from torch.optim.lr_scheduler import StepLR\n",
        "import matplotlib.pyplot as plt\n",
        "import mnist1d\n",
        "import random"
      ],
      "metadata": {
        "id": "YrXWAH7sUWvU"
      },
      "execution_count": 2,
      "outputs": []
    },
    {
      "cell_type": "code",
      "source": [
        "args = mnist1d.data.get_dataset_args()\n",
        "data = mnist1d.data.get_dataset(args, path='./mnist1d_data.pkl', download=False, regenerate=False)\n",
        "\n",
        "# The training and test input and outputs are in\n",
        "# data['x'], data['y'], data['x_test'], and data['y_test']\n",
        "print(\"Examples in training set: {}\".format(len(data['y'])))\n",
        "print(\"Examples in test set: {}\".format(len(data['y_test'])))\n",
        "print(\"Length of each example: {}\".format(data['x'].shape[-1]))"
      ],
      "metadata": {
        "id": "twI72ZCrCt5z",
        "colab": {
          "base_uri": "https://localhost:8080/"
        },
        "outputId": "4fae8a7a-4efe-42bb-e2a6-353dc1a4e5c7"
      },
      "execution_count": 3,
      "outputs": [
        {
          "output_type": "stream",
          "name": "stdout",
          "text": [
            "Did or could not load data from ./mnist1d_data.pkl. Rebuilding dataset...\n",
            "Examples in training set: 4000\n",
            "Examples in test set: 1000\n",
            "Length of each example: 40\n"
          ]
        }
      ]
    },
    {
      "cell_type": "code",
      "source": [
        "# Load in the data\n",
        "train_data_x = data['x'].transpose()\n",
        "train_data_y = data['y']\n",
        "val_data_x = data['x_test'].transpose()\n",
        "val_data_y = data['y_test']\n",
        "# Print out sizes\n",
        "print(\"Train data: %d examples (columns), each of which has %d dimensions (rows)\"%((train_data_x.shape[1],train_data_x.shape[0])))\n",
        "print(\"Validation data: %d examples (columns), each of which has %d dimensions (rows)\"%((val_data_x.shape[1],val_data_x.shape[0])))"
      ],
      "metadata": {
        "id": "8bKADvLHbiV5",
        "colab": {
          "base_uri": "https://localhost:8080/"
        },
        "outputId": "ed779f51-1feb-48a4-c171-b1d5ea3b762f"
      },
      "execution_count": 4,
      "outputs": [
        {
          "output_type": "stream",
          "name": "stdout",
          "text": [
            "Train data: 4000 examples (columns), each of which has 40 dimensions (rows)\n",
            "Validation data: 1000 examples (columns), each of which has 40 dimensions (rows)\n"
          ]
        }
      ]
    },
    {
      "cell_type": "markdown",
      "source": [
        "Define the network"
      ],
      "metadata": {
        "id": "_sFvRDGrl4qe"
      }
    },
    {
      "cell_type": "code",
      "source": [
        "from re import M\n",
        "# There are 40 input dimensions and 10 output dimensions for this data\n",
        "# The inputs correspond to the 40 offsets in the MNIST1D template.\n",
        "D_i = 40\n",
        "# The outputs correspond to the 10 digits\n",
        "D_o = 10\n",
        "\n",
        "\n",
        "# TODO Create a model with the following layers\n",
        "# 1. Convolutional layer, (input=length 40 and 1 channel, kernel size 3, stride 2, padding=\"valid\", 15 output channels )\n",
        "# 2. ReLU\n",
        "# 3. Convolutional layer, (input=length 19 and 15 channels, kernel size 3, stride 2, padding=\"valid\", 15 output channels )\n",
        "# 4. ReLU\n",
        "# 5. Convolutional layer, (input=length 9 and 15 channels, kernel size 3, stride 2, padding=\"valid\", 15 output channels)\n",
        "# 6. ReLU\n",
        "# 7. Flatten (converts 4x15) to length 60\n",
        "# 8. Linear layer (input size = 60, output size = 10)\n",
        "# References:\n",
        "# https://pytorch.org/docs/1.13/generated/torch.nn.Conv1d.html?highlight=conv1d#torch.nn.Conv1d\n",
        "# https://pytorch.org/docs/stable/generated/torch.nn.Flatten.html\n",
        "# https://pytorch.org/docs/1.13/generated/torch.nn.Linear.html?highlight=linear#torch.nn.Linear\n",
        "\n",
        "# NOTE THAT THE CONVOLUTIONAL LAYERS NEED TO TAKE THE NUMBER OF INPUT CHANNELS AS A PARAMETER\n",
        "# AND NOT THE INPUT SIZE.\n",
        "\n",
        "# Replace the following function:\n",
        "model = nn.Sequential(\n",
        "    nn.Conv1d(1, 15, 3, stride=2, padding=\"valid\"),\n",
        "    nn.ReLU(),\n",
        "    nn.Conv1d(15, 15, 3, stride=2, padding=\"valid\"),\n",
        "    nn.ReLU(),\n",
        "    nn.Conv1d(15, 15, 3, stride=2, padding=\"valid\"),\n",
        "    nn.ReLU(),\n",
        "    nn.Flatten(),\n",
        "    nn.Linear(60, D_o))"
      ],
      "metadata": {
        "id": "FslroPJJffrh"
      },
      "execution_count": 13,
      "outputs": []
    },
    {
      "cell_type": "code",
      "source": [
        "# He initialization of weights\n",
        "def weights_init(layer_in):\n",
        "  if isinstance(layer_in, nn.Linear):\n",
        "    nn.init.kaiming_uniform_(layer_in.weight)\n",
        "    layer_in.bias.data.fill_(0.0)"
      ],
      "metadata": {
        "id": "YgLaex1pfhqz"
      },
      "execution_count": 14,
      "outputs": []
    },
    {
      "cell_type": "code",
      "source": [
        "# choose cross entropy loss function (equation 5.24 in the loss notes)\n",
        "loss_function = nn.CrossEntropyLoss()\n",
        "# construct SGD optimizer and initialize learning rate and momentum\n",
        "optimizer = torch.optim.SGD(model.parameters(), lr = 0.05, momentum=0.9)\n",
        "# object that decreases learning rate by half every 20 epochs\n",
        "scheduler = StepLR(optimizer, step_size=20, gamma=0.5)\n",
        "# create 100 dummy data points and store in data loader class\n",
        "x_train = torch.tensor(train_data_x.transpose().astype('float32'))\n",
        "y_train = torch.tensor(train_data_y.astype('long')).long()\n",
        "x_val= torch.tensor(val_data_x.transpose().astype('float32'))\n",
        "y_val = torch.tensor(val_data_y.astype('long')).long()\n",
        "\n",
        "# load the data into a class that creates the batches\n",
        "data_loader = DataLoader(TensorDataset(x_train,y_train), batch_size=100, shuffle=True, worker_init_fn=np.random.seed(1))\n",
        "\n",
        "# Initialize model weights\n",
        "model.apply(weights_init)\n",
        "\n",
        "# loop over the dataset n_epoch times\n",
        "n_epoch = 100\n",
        "# store the loss and the % correct at each epoch\n",
        "losses_train = np.zeros((n_epoch))\n",
        "errors_train = np.zeros((n_epoch))\n",
        "losses_val = np.zeros((n_epoch))\n",
        "errors_val = np.zeros((n_epoch))\n",
        "\n",
        "for epoch in range(n_epoch):\n",
        "  # loop over batches\n",
        "  for i, data in enumerate(data_loader):\n",
        "    # retrieve inputs and labels for this batch\n",
        "    x_batch, y_batch = data\n",
        "    # zero the parameter gradients\n",
        "    optimizer.zero_grad()\n",
        "    # forward pass -- calculate model output\n",
        "    pred = model(x_batch[:,None,:])\n",
        "    # compute the loss\n",
        "    loss = loss_function(pred, y_batch)\n",
        "    # backward pass\n",
        "    loss.backward()\n",
        "    # SGD update\n",
        "    optimizer.step()\n",
        "\n",
        "  # Run whole dataset to get statistics -- normally wouldn't do this\n",
        "  pred_train = model(x_train[:,None,:])\n",
        "  pred_val = model(x_val[:,None,:])\n",
        "  _, predicted_train_class = torch.max(pred_train.data, 1)\n",
        "  _, predicted_val_class = torch.max(pred_val.data, 1)\n",
        "  errors_train[epoch] = 100 - 100 * (predicted_train_class == y_train).float().sum() / len(y_train)\n",
        "  errors_val[epoch]= 100 - 100 * (predicted_val_class == y_val).float().sum() / len(y_val)\n",
        "  losses_train[epoch] = loss_function(pred_train, y_train).item()\n",
        "  losses_val[epoch]= loss_function(pred_val, y_val).item()\n",
        "  print(f'Epoch {epoch:5d}, train loss {losses_train[epoch]:.6f}, train error {errors_train[epoch]:3.2f},  val loss {losses_val[epoch]:.6f}, percent error {errors_val[epoch]:3.2f}')\n",
        "\n",
        "  # tell scheduler to consider updating learning rate\n",
        "  scheduler.step()\n",
        "\n",
        "# Plot the results\n",
        "fig, ax = plt.subplots()\n",
        "ax.plot(errors_train,'r-',label='train')\n",
        "ax.plot(errors_val,'b-',label='validation')\n",
        "ax.set_ylim(0,100); ax.set_xlim(0,n_epoch)\n",
        "ax.set_xlabel('Epoch'); ax.set_ylabel('Error')\n",
        "ax.set_title('Part I: Validation Result %3.2f'%(errors_val[-1]))\n",
        "ax.legend()\n",
        "plt.show()"
      ],
      "metadata": {
        "id": "NYw8I_3mmX5c",
        "colab": {
          "base_uri": "https://localhost:8080/",
          "height": 1000
        },
        "outputId": "793a25ec-2285-484d-ec9c-361f00025ef2"
      },
      "execution_count": 15,
      "outputs": [
        {
          "output_type": "stream",
          "name": "stdout",
          "text": [
            "Epoch     0, train loss 1.896762, train error 74.28,  val loss 1.929712, percent error 75.70\n",
            "Epoch     1, train loss 1.494157, train error 61.58,  val loss 1.514302, percent error 63.90\n",
            "Epoch     2, train loss 1.379345, train error 56.00,  val loss 1.428061, percent error 59.40\n",
            "Epoch     3, train loss 1.256959, train error 50.78,  val loss 1.277504, percent error 54.10\n",
            "Epoch     4, train loss 1.208148, train error 48.97,  val loss 1.230246, percent error 53.60\n",
            "Epoch     5, train loss 1.203934, train error 49.60,  val loss 1.244401, percent error 52.60\n",
            "Epoch     6, train loss 1.158932, train error 47.15,  val loss 1.202302, percent error 48.70\n",
            "Epoch     7, train loss 0.952823, train error 37.72,  val loss 0.996520, percent error 41.60\n",
            "Epoch     8, train loss 0.880122, train error 35.78,  val loss 0.901570, percent error 37.10\n",
            "Epoch     9, train loss 0.845816, train error 33.53,  val loss 0.896427, percent error 35.60\n",
            "Epoch    10, train loss 0.752465, train error 30.12,  val loss 0.801779, percent error 33.50\n",
            "Epoch    11, train loss 0.699700, train error 26.10,  val loss 0.735996, percent error 27.90\n",
            "Epoch    12, train loss 0.622263, train error 23.70,  val loss 0.686517, percent error 28.00\n",
            "Epoch    13, train loss 0.607842, train error 23.18,  val loss 0.681196, percent error 27.40\n",
            "Epoch    14, train loss 0.484424, train error 17.18,  val loss 0.549547, percent error 19.10\n",
            "Epoch    15, train loss 0.479531, train error 17.90,  val loss 0.568430, percent error 18.60\n",
            "Epoch    16, train loss 0.361197, train error 12.12,  val loss 0.456166, percent error 15.80\n",
            "Epoch    17, train loss 0.340281, train error 11.72,  val loss 0.443200, percent error 14.80\n",
            "Epoch    18, train loss 0.417425, train error 15.55,  val loss 0.533290, percent error 19.10\n",
            "Epoch    19, train loss 0.278464, train error 10.28,  val loss 0.408145, percent error 14.40\n",
            "Epoch    20, train loss 0.238176, train error 7.97,  val loss 0.352328, percent error 12.00\n",
            "Epoch    21, train loss 0.221771, train error 7.45,  val loss 0.346414, percent error 11.60\n",
            "Epoch    22, train loss 0.209952, train error 7.32,  val loss 0.328612, percent error 11.10\n",
            "Epoch    23, train loss 0.200262, train error 6.53,  val loss 0.340143, percent error 11.20\n",
            "Epoch    24, train loss 0.200633, train error 6.68,  val loss 0.337692, percent error 10.10\n",
            "Epoch    25, train loss 0.184408, train error 6.40,  val loss 0.323116, percent error 10.60\n",
            "Epoch    26, train loss 0.182503, train error 6.12,  val loss 0.337416, percent error 10.70\n",
            "Epoch    27, train loss 0.187376, train error 6.60,  val loss 0.340059, percent error 10.90\n",
            "Epoch    28, train loss 0.175857, train error 5.93,  val loss 0.341392, percent error 10.40\n",
            "Epoch    29, train loss 0.153659, train error 5.20,  val loss 0.324499, percent error 10.10\n",
            "Epoch    30, train loss 0.156391, train error 5.25,  val loss 0.332131, percent error 10.10\n",
            "Epoch    31, train loss 0.141660, train error 4.47,  val loss 0.312993, percent error 9.30\n",
            "Epoch    32, train loss 0.142539, train error 4.93,  val loss 0.330421, percent error 9.30\n",
            "Epoch    33, train loss 0.134104, train error 4.50,  val loss 0.324445, percent error 9.70\n",
            "Epoch    34, train loss 0.166093, train error 6.05,  val loss 0.366844, percent error 10.00\n",
            "Epoch    35, train loss 0.120935, train error 3.90,  val loss 0.319405, percent error 9.00\n",
            "Epoch    36, train loss 0.145441, train error 5.05,  val loss 0.327183, percent error 10.10\n",
            "Epoch    37, train loss 0.117276, train error 3.70,  val loss 0.326365, percent error 9.00\n",
            "Epoch    38, train loss 0.109242, train error 3.53,  val loss 0.319325, percent error 8.40\n",
            "Epoch    39, train loss 0.106722, train error 3.47,  val loss 0.306951, percent error 8.70\n",
            "Epoch    40, train loss 0.094499, train error 2.78,  val loss 0.315744, percent error 8.40\n",
            "Epoch    41, train loss 0.092674, train error 2.65,  val loss 0.311253, percent error 9.00\n",
            "Epoch    42, train loss 0.085979, train error 2.45,  val loss 0.317105, percent error 8.50\n",
            "Epoch    43, train loss 0.084318, train error 2.40,  val loss 0.319422, percent error 8.60\n",
            "Epoch    44, train loss 0.083779, train error 2.68,  val loss 0.308641, percent error 9.00\n",
            "Epoch    45, train loss 0.082447, train error 2.15,  val loss 0.324554, percent error 8.60\n",
            "Epoch    46, train loss 0.080319, train error 2.12,  val loss 0.327631, percent error 8.50\n",
            "Epoch    47, train loss 0.078198, train error 2.28,  val loss 0.326197, percent error 9.20\n",
            "Epoch    48, train loss 0.075472, train error 1.93,  val loss 0.320561, percent error 8.80\n",
            "Epoch    49, train loss 0.077691, train error 2.20,  val loss 0.325757, percent error 9.30\n",
            "Epoch    50, train loss 0.072236, train error 2.03,  val loss 0.324793, percent error 8.40\n",
            "Epoch    51, train loss 0.074053, train error 2.07,  val loss 0.339068, percent error 9.20\n",
            "Epoch    52, train loss 0.074211, train error 2.18,  val loss 0.333282, percent error 9.20\n",
            "Epoch    53, train loss 0.080959, train error 2.47,  val loss 0.355489, percent error 9.30\n",
            "Epoch    54, train loss 0.068737, train error 1.78,  val loss 0.333019, percent error 8.90\n",
            "Epoch    55, train loss 0.068144, train error 1.78,  val loss 0.337569, percent error 9.20\n",
            "Epoch    56, train loss 0.069008, train error 1.80,  val loss 0.327256, percent error 8.80\n",
            "Epoch    57, train loss 0.063178, train error 1.75,  val loss 0.334189, percent error 8.60\n",
            "Epoch    58, train loss 0.063893, train error 1.72,  val loss 0.338748, percent error 8.80\n",
            "Epoch    59, train loss 0.063579, train error 1.75,  val loss 0.346022, percent error 9.30\n",
            "Epoch    60, train loss 0.058204, train error 1.35,  val loss 0.337302, percent error 8.80\n",
            "Epoch    61, train loss 0.057243, train error 1.32,  val loss 0.339289, percent error 8.80\n",
            "Epoch    62, train loss 0.056556, train error 1.22,  val loss 0.340833, percent error 8.70\n",
            "Epoch    63, train loss 0.056358, train error 1.32,  val loss 0.340441, percent error 9.20\n",
            "Epoch    64, train loss 0.056516, train error 1.25,  val loss 0.343532, percent error 9.00\n",
            "Epoch    65, train loss 0.056643, train error 1.28,  val loss 0.341494, percent error 9.10\n",
            "Epoch    66, train loss 0.054593, train error 1.18,  val loss 0.347477, percent error 8.50\n",
            "Epoch    67, train loss 0.054479, train error 1.18,  val loss 0.351267, percent error 9.00\n",
            "Epoch    68, train loss 0.053479, train error 1.20,  val loss 0.347254, percent error 8.80\n",
            "Epoch    69, train loss 0.053160, train error 1.15,  val loss 0.345564, percent error 8.50\n",
            "Epoch    70, train loss 0.052561, train error 1.18,  val loss 0.347865, percent error 8.80\n",
            "Epoch    71, train loss 0.051824, train error 1.07,  val loss 0.355486, percent error 9.10\n",
            "Epoch    72, train loss 0.050884, train error 1.07,  val loss 0.351272, percent error 8.90\n",
            "Epoch    73, train loss 0.050518, train error 1.10,  val loss 0.349230, percent error 8.80\n",
            "Epoch    74, train loss 0.050562, train error 1.07,  val loss 0.352666, percent error 8.80\n",
            "Epoch    75, train loss 0.051069, train error 1.15,  val loss 0.354244, percent error 8.80\n",
            "Epoch    76, train loss 0.049720, train error 1.10,  val loss 0.355965, percent error 8.70\n",
            "Epoch    77, train loss 0.048993, train error 1.10,  val loss 0.362120, percent error 8.90\n",
            "Epoch    78, train loss 0.048505, train error 0.93,  val loss 0.353453, percent error 8.90\n",
            "Epoch    79, train loss 0.048705, train error 0.88,  val loss 0.355803, percent error 8.90\n",
            "Epoch    80, train loss 0.048066, train error 1.00,  val loss 0.364121, percent error 8.90\n",
            "Epoch    81, train loss 0.046939, train error 0.93,  val loss 0.358184, percent error 8.80\n",
            "Epoch    82, train loss 0.047267, train error 1.12,  val loss 0.361766, percent error 9.00\n",
            "Epoch    83, train loss 0.046717, train error 0.93,  val loss 0.362264, percent error 9.00\n",
            "Epoch    84, train loss 0.046294, train error 0.90,  val loss 0.362496, percent error 9.10\n",
            "Epoch    85, train loss 0.046007, train error 0.85,  val loss 0.361797, percent error 9.00\n",
            "Epoch    86, train loss 0.045902, train error 0.90,  val loss 0.359861, percent error 8.60\n",
            "Epoch    87, train loss 0.045888, train error 0.88,  val loss 0.366868, percent error 9.00\n",
            "Epoch    88, train loss 0.045501, train error 0.93,  val loss 0.361412, percent error 8.70\n",
            "Epoch    89, train loss 0.045600, train error 0.93,  val loss 0.369346, percent error 9.00\n",
            "Epoch    90, train loss 0.045123, train error 0.95,  val loss 0.362842, percent error 8.70\n",
            "Epoch    91, train loss 0.045024, train error 0.90,  val loss 0.365190, percent error 8.90\n",
            "Epoch    92, train loss 0.045035, train error 0.95,  val loss 0.366382, percent error 9.00\n",
            "Epoch    93, train loss 0.044613, train error 0.85,  val loss 0.364102, percent error 8.70\n",
            "Epoch    94, train loss 0.044141, train error 0.90,  val loss 0.366589, percent error 8.60\n",
            "Epoch    95, train loss 0.044348, train error 0.90,  val loss 0.366820, percent error 8.50\n",
            "Epoch    96, train loss 0.043818, train error 0.90,  val loss 0.370742, percent error 9.00\n",
            "Epoch    97, train loss 0.044066, train error 0.93,  val loss 0.372402, percent error 8.90\n",
            "Epoch    98, train loss 0.043979, train error 0.78,  val loss 0.366102, percent error 8.80\n",
            "Epoch    99, train loss 0.043486, train error 0.78,  val loss 0.371480, percent error 8.90\n"
          ]
        },
        {
          "output_type": "display_data",
          "data": {
            "text/plain": [
              "<Figure size 640x480 with 1 Axes>"
            ],
            "image/png": "[encoded data removed]"
          },
          "metadata": {}
        }
      ]
    }
  ]
}